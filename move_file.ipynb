{
 "cells": [
  {
   "cell_type": "code",
   "execution_count": 1,
   "metadata": {},
   "outputs": [],
   "source": [
    "import glob\n",
    "import os\n",
    "import shutil\n",
    "from shutil import copy\n",
    "from shutil import copy2\n",
    "import random\n",
    "import numpy as np"
   ]
  },
  {
   "cell_type": "code",
   "execution_count": null,
   "metadata": {},
   "outputs": [],
   "source": [
    "dst_path = '/hdd/tam/extend_data/Swap2/test/'"
   ]
  },
  {
   "cell_type": "code",
   "execution_count": null,
   "metadata": {},
   "outputs": [],
   "source": [
    "jj = 0\n",
    "image_ori = glob.glob(\"/hdd/tam/extend_data/Swap2/output/*.jpg\")\n",
    "random.shuffle(image_ori)\n",
    "for i in image_ori:\n",
    "    if jj < 7000:\n",
    "        name = i.split(\"/\")[-1]\n",
    "    #     print(name)\n",
    "    #     break\n",
    "    #     print(dst_path +\"df_\" +  name)\n",
    "        copy2(i,dst_path+  name)\n",
    "        jj+=1\n",
    "#     if jj==10000:\n",
    "#         break\n",
    "# for i in image_ori:\n",
    "    else:\n",
    "        name = i.split(\"/\")[-1]\n",
    "    #     print(name)\n",
    "    #     break\n",
    "    #     print(dst_path +\"df_\" +  name)\n",
    "        copy2(i,'/hdd/tam/extend_data/Swap2/train/'+  name)\n",
    "        jj+=1\n",
    "#     if jj==10000:\n",
    "#         break"
   ]
  },
  {
   "cell_type": "code",
   "execution_count": null,
   "metadata": {},
   "outputs": [],
   "source": [
    "\n",
    "jj = 0\n",
    "for i in glob.glob(\"/hdd/tam/ff/images/train_nt/1_nt/*.jpg\"):\n",
    "    name = i.split(\"/\")[-1]\n",
    "#     print(jj)\n",
    "#     break\n",
    "#     print(dst_path +\"df_\" +  name)\n",
    "    copy2(i,dst_path+\"nt_\" +  name)\n",
    "    jj+=1\n",
    "    if jj==25000:\n",
    "        break"
   ]
  },
  {
   "cell_type": "code",
   "execution_count": null,
   "metadata": {},
   "outputs": [],
   "source": [
    "dst_test_path = '/hdd/tam/ff/images/test/1_df/'"
   ]
  },
  {
   "cell_type": "code",
   "execution_count": null,
   "metadata": {},
   "outputs": [],
   "source": [
    "jj = 0\n",
    "for i in glob.glob(\"/hdd/tam/ff/images/test_nt/1_nt/*.jpg\"):\n",
    "    name = i.split(\"/\")[-1]\n",
    "#     print(jj)\n",
    "#     break\n",
    "#     print(dst_path +\"df_\" +  name)\n",
    "    copy2(i,dst_test_path+\"nt_\" +  name)\n",
    "    jj+=1\n",
    "    if jj==6500:\n",
    "        break"
   ]
  },
  {
   "cell_type": "code",
   "execution_count": null,
   "metadata": {},
   "outputs": [],
   "source": [
    "image_mokey = glob.glob(\"/home/tampm/code/first-order-model/data/extract_image/*.jpg\")"
   ]
  },
  {
   "cell_type": "code",
   "execution_count": null,
   "metadata": {},
   "outputs": [],
   "source": [
    "jj = 0\n",
    "for i in image_mokey:\n",
    "    name = i.split(\"/\")[-1]\n",
    "    print(name)\n",
    "    if jj <500:\n",
    "        copy2(i,'/hdd/tam/extend_data/image_deep/val/1_df/'+name)\n",
    "    elif jj<1500:\n",
    "        copy2(i,'/hdd/tam/extend_data/image_deep/test/1_df/'+name)\n",
    "    else:\n",
    "        copy2(i,'/hdd/tam/extend_data/image_deep/train/1_df/'+name)\n",
    "    jj+=1"
   ]
  },
  {
   "cell_type": "code",
   "execution_count": null,
   "metadata": {},
   "outputs": [],
   "source": [
    "image_3dmm = glob.glob(\"/home/tampm/code/Nonlinear_Face_3DMM/data/image_swap/*.jpg\")\n",
    "jj = 0\n",
    "for i in image_3dmm:\n",
    "    name = i.split(\"/\")[-1]\n",
    "    print(name)\n",
    "    if jj <500:\n",
    "        copy2(i,'/hdd/tam/extend_data/image_deep/test/1_df/'+name)\n",
    "    else:\n",
    "        copy2(i,'/hdd/tam/extend_data/image_deep/train/1_df/'+name)\n",
    "    jj+=1"
   ]
  },
  {
   "cell_type": "code",
   "execution_count": null,
   "metadata": {},
   "outputs": [],
   "source": [
    "image_3dmm = glob.glob(\"/home/tampm/code/ReenactGAN/results-celebv-tmp2/fake_F2_Kathleen/Image/*.jpg\")\n",
    "random.shuffle(image_3dmm)\n",
    "jj = 0\n",
    "for i in image_3dmm:\n",
    "    name = i.split(\"/\")[-1]\n",
    "    print(name)\n",
    "    if jj <200:\n",
    "        copy2(i,'/hdd/tam/extend_data/image_deep/test/1_df/'+\"kathleen\"+name)\n",
    "    elif jj<800:\n",
    "        copy2(i,'/hdd/tam/extend_data/image_deep/train/1_df/'+\"kathleen\"+name)\n",
    "    jj+=1"
   ]
  },
  {
   "cell_type": "code",
   "execution_count": null,
   "metadata": {},
   "outputs": [],
   "source": []
  },
  {
   "cell_type": "code",
   "execution_count": null,
   "metadata": {},
   "outputs": [],
   "source": [
    "image_mydata = glob.glob(\"/hdd/tam/extend_data/image_deep/test/1_df/*.jpg\")"
   ]
  },
  {
   "cell_type": "code",
   "execution_count": null,
   "metadata": {},
   "outputs": [],
   "source": [
    "for i in range(2100):\n",
    "    img_path = np.random.choice(image_mydata)\n",
    "    image_mydata.remove(img_path)\n",
    "    os.remove(img_path)"
   ]
  },
  {
   "cell_type": "markdown",
   "metadata": {},
   "source": [
    "# 3dmm"
   ]
  },
  {
   "cell_type": "code",
   "execution_count": 4,
   "metadata": {},
   "outputs": [],
   "source": [
    "fake_data = glob.glob(\"/home/tampm/code/Nonlinear_Face_3DMM/data/image_swap/outtest*.jpg\")\n",
    "real_data = glob.glob(\"/hdd/tam/extend_data/celeba_hq_rr/celeba_hq/val/*/*.jpg\")"
   ]
  },
  {
   "cell_type": "code",
   "execution_count": 5,
   "metadata": {},
   "outputs": [
    {
     "data": {
      "text/plain": [
       "1053"
      ]
     },
     "execution_count": 5,
     "metadata": {},
     "output_type": "execute_result"
    }
   ],
   "source": [
    "len(fake_data)"
   ]
  },
  {
   "cell_type": "code",
   "execution_count": 6,
   "metadata": {},
   "outputs": [],
   "source": [
    "fake_target = \"/hdd/tam/extend_data/image_split/3dmm/1_df/\"\n",
    "real_target = \"/hdd/tam/extend_data/image_split/3dmm/0_real/\""
   ]
  },
  {
   "cell_type": "code",
   "execution_count": 7,
   "metadata": {},
   "outputs": [],
   "source": [
    "np.random.seed(0)"
   ]
  },
  {
   "cell_type": "code",
   "execution_count": 8,
   "metadata": {},
   "outputs": [],
   "source": [
    "np.random.shuffle(fake_data)\n",
    "np.random.shuffle(real_data)"
   ]
  },
  {
   "cell_type": "code",
   "execution_count": 9,
   "metadata": {},
   "outputs": [],
   "source": [
    "for i in range(1000):\n",
    "    shutil.copy(fake_data[i],fake_target)\n",
    "    shutil.copy(real_data[i],real_target)"
   ]
  },
  {
   "cell_type": "markdown",
   "metadata": {},
   "source": [
    "# Deepfake"
   ]
  },
  {
   "cell_type": "code",
   "execution_count": 41,
   "metadata": {},
   "outputs": [],
   "source": [
    "fake_data = glob.glob(\"/hdd/tam/extend_data/extract_download/test/*.jpg\")\n",
    "real_data = glob.glob(\"/hdd/tam/extend_data/celeba_hq_rr/celeba_hq/val/*/*.jpg\")"
   ]
  },
  {
   "cell_type": "code",
   "execution_count": 50,
   "metadata": {},
   "outputs": [],
   "source": [
    "fake_target = \"/hdd/tam/extend_data/image_split/deepfake/1_df/\"\n",
    "real_target = \"/hdd/tam/extend_data/image_split/deepfake/0_real/\""
   ]
  },
  {
   "cell_type": "code",
   "execution_count": 43,
   "metadata": {},
   "outputs": [],
   "source": [
    "np.random.seed(1)"
   ]
  },
  {
   "cell_type": "code",
   "execution_count": 44,
   "metadata": {},
   "outputs": [],
   "source": [
    "np.random.shuffle(fake_data)\n",
    "np.random.shuffle(real_data)"
   ]
  },
  {
   "cell_type": "code",
   "execution_count": 56,
   "metadata": {},
   "outputs": [],
   "source": [
    "for i in range(1000):\n",
    "    shutil.copy(fake_data[i],fake_target)\n",
    "    shutil.copy(real_data[i],real_target)"
   ]
  },
  {
   "cell_type": "markdown",
   "metadata": {},
   "source": [
    "# swap2D"
   ]
  },
  {
   "cell_type": "code",
   "execution_count": 57,
   "metadata": {},
   "outputs": [],
   "source": [
    "fake_data = glob.glob(\"/hdd/tam/extend_data/swap1/test/*.jpg\")\n",
    "real_data = glob.glob(\"/hdd/tam/extend_data/celeba_hq_rr/celeba_hq/val/*/*.jpg\")"
   ]
  },
  {
   "cell_type": "code",
   "execution_count": 58,
   "metadata": {},
   "outputs": [],
   "source": [
    "fake_target = \"/hdd/tam/extend_data/image_split/image_swap2d/1_df/\"\n",
    "real_target = \"/hdd/tam/extend_data/image_split/image_swap2d/0_real/\""
   ]
  },
  {
   "cell_type": "code",
   "execution_count": 59,
   "metadata": {},
   "outputs": [],
   "source": [
    "np.random.seed(2)\n",
    "np.random.shuffle(fake_data)\n",
    "np.random.shuffle(real_data)"
   ]
  },
  {
   "cell_type": "code",
   "execution_count": 60,
   "metadata": {},
   "outputs": [],
   "source": [
    "for i in range(1000):\n",
    "    shutil.copy(fake_data[i],fake_target)\n",
    "    shutil.copy(real_data[i],real_target)"
   ]
  },
  {
   "cell_type": "markdown",
   "metadata": {},
   "source": [
    "# swap3D"
   ]
  },
  {
   "cell_type": "code",
   "execution_count": 61,
   "metadata": {},
   "outputs": [],
   "source": [
    "fake_data = glob.glob(\"/hdd/tam/extend_data/Swap2/test/*.jpg\")\n",
    "real_data = glob.glob(\"/hdd/tam/extend_data/celeba_hq_rr/celeba_hq/val/*/*.jpg\")"
   ]
  },
  {
   "cell_type": "code",
   "execution_count": 62,
   "metadata": {},
   "outputs": [],
   "source": [
    "fake_target = \"/hdd/tam/extend_data/image_split/image_swap3d/1_df/\"\n",
    "real_target = \"/hdd/tam/extend_data/image_split/image_swap3d/0_real/\""
   ]
  },
  {
   "cell_type": "code",
   "execution_count": 63,
   "metadata": {},
   "outputs": [],
   "source": [
    "np.random.seed(3)\n",
    "np.random.shuffle(fake_data)\n",
    "np.random.shuffle(real_data)"
   ]
  },
  {
   "cell_type": "code",
   "execution_count": 64,
   "metadata": {},
   "outputs": [],
   "source": [
    "for i in range(1000):\n",
    "    shutil.copy(fake_data[i],fake_target)\n",
    "    shutil.copy(real_data[i],real_target)"
   ]
  },
  {
   "cell_type": "markdown",
   "metadata": {},
   "source": [
    "# Monkey"
   ]
  },
  {
   "cell_type": "code",
   "execution_count": 65,
   "metadata": {},
   "outputs": [],
   "source": [
    "fake_data = glob.glob(\"/home/tampm/code/first-order-model/data/extract_image/*.jpg\")\n",
    "real_data = glob.glob(\"/hdd/tam/extend_data/celeba_hq_rr/celeba_hq/val/*/*.jpg\")"
   ]
  },
  {
   "cell_type": "code",
   "execution_count": 66,
   "metadata": {},
   "outputs": [],
   "source": [
    "fake_target = \"/hdd/tam/extend_data/image_split/monkey/1_df/\"\n",
    "real_target = \"/hdd/tam/extend_data/image_split/monkey/0_real/\""
   ]
  },
  {
   "cell_type": "code",
   "execution_count": 67,
   "metadata": {},
   "outputs": [],
   "source": [
    "np.random.seed(4)\n",
    "np.random.shuffle(real_data)"
   ]
  },
  {
   "cell_type": "code",
   "execution_count": 68,
   "metadata": {},
   "outputs": [],
   "source": [
    "for i in range(1000):\n",
    "    shutil.copy(fake_data[i],fake_target)\n",
    "    shutil.copy(real_data[i],real_target)"
   ]
  },
  {
   "cell_type": "markdown",
   "metadata": {},
   "source": [
    "# Reenact"
   ]
  },
  {
   "cell_type": "code",
   "execution_count": 34,
   "metadata": {},
   "outputs": [],
   "source": [
    "fake_data = glob.glob(\"/home/tampm/code/ReenactGAN/results-celebv-tmp2/fake_F2_Kathleen/Image/*.jpg\")\n",
    "real_data = glob.glob(\"/hdd/tam/extend_data/celeba_hq_rr/celeba_hq/val/*/*.jpg\")"
   ]
  },
  {
   "cell_type": "code",
   "execution_count": 18,
   "metadata": {},
   "outputs": [],
   "source": [
    "fake_target = \"/hdd/tam/extend_data/image_split/reenact/1_df/\"\n",
    "real_target = \"/hdd/tam/extend_data/image_split/reenact/0_real/\""
   ]
  },
  {
   "cell_type": "code",
   "execution_count": 19,
   "metadata": {},
   "outputs": [],
   "source": [
    "np.random.seed(5)\n",
    "np.random.shuffle(fake_data)\n",
    "np.random.shuffle(real_data)"
   ]
  },
  {
   "cell_type": "code",
   "execution_count": 36,
   "metadata": {},
   "outputs": [],
   "source": [
    "for i in range(2000,2400):\n",
    "#     shutil.copy(fake_data[i],fake_target)\n",
    "    name = fake_data[i].split(\"/\")[-1]\n",
    "    copy2(fake_data[i],fake_target+\"kathleen\"+name)\n",
    "#     shutil.copy(real_data[i],real_target)"
   ]
  },
  {
   "cell_type": "markdown",
   "metadata": {},
   "source": [
    "# stargan"
   ]
  },
  {
   "cell_type": "code",
   "execution_count": 69,
   "metadata": {},
   "outputs": [],
   "source": [
    "fake_data = glob.glob(\"/hdd/tam/extend_data/stargan/test/*.jpg\")\n",
    "real_data = glob.glob(\"/hdd/tam/extend_data/celeba_hq_rr/celeba_hq/val/*/*.jpg\")"
   ]
  },
  {
   "cell_type": "code",
   "execution_count": 70,
   "metadata": {},
   "outputs": [],
   "source": [
    "fake_target = \"/hdd/tam/extend_data/image_split/stargan/1_df/\"\n",
    "real_target = \"/hdd/tam/extend_data/image_split/stargan/0_real/\""
   ]
  },
  {
   "cell_type": "code",
   "execution_count": 71,
   "metadata": {},
   "outputs": [],
   "source": [
    "np.random.seed(6)\n",
    "np.random.shuffle(fake_data)\n",
    "np.random.shuffle(real_data)"
   ]
  },
  {
   "cell_type": "code",
   "execution_count": 72,
   "metadata": {},
   "outputs": [],
   "source": [
    "for i in range(1000):\n",
    "    shutil.copy(fake_data[i],fake_target)\n",
    "    shutil.copy(real_data[i],real_target)"
   ]
  },
  {
   "cell_type": "code",
   "execution_count": null,
   "metadata": {},
   "outputs": [],
   "source": []
  }
 ],
 "metadata": {
  "kernelspec": {
   "display_name": "Python 3",
   "language": "python",
   "name": "python3"
  },
  "language_info": {
   "codemirror_mode": {
    "name": "ipython",
    "version": 3
   },
   "file_extension": ".py",
   "mimetype": "text/x-python",
   "name": "python",
   "nbconvert_exporter": "python",
   "pygments_lexer": "ipython3",
   "version": "3.7.6"
  }
 },
 "nbformat": 4,
 "nbformat_minor": 4
}
